{
 "cells": [
  {
   "cell_type": "markdown",
   "id": "6e08d4fa",
   "metadata": {},
   "source": [
    "<h1>INTERNET GROWTH</h1>\n",
    "<img src=\"Profile.png\" alt=\"Alt text\" width=\"180\" height=\"150\" align=\"right\">\n",
    "\n",
    "\n",
    "<b>AUTHOR:  CECIL SITHOLE</b> <br><br>\n",
    "<b>DATE: 29/03/2023</b><br><br>\n",
    "<b>SOURCE: https://www.kaggle.com/datasets/pavan9065/internet-usage </b><br><br>\n",
    "<b>GitHub: https://github.com/cecil-41/Assignment_3</b>"
   ]
  },
  {
   "cell_type": "markdown",
   "id": "d5d7bb4e",
   "metadata": {},
   "source": [
    "<h3><u>WORLD'S INTERNET GROWTH FROM 1990 TO 2020</u></h3> <br>"
   ]
  },
  {
   "cell_type": "code",
   "execution_count": 2,
   "id": "8b5ddaef",
   "metadata": {},
   "outputs": [],
   "source": [
    "import pandas as pd\n",
    "import numpy as np\n",
    "import matplotlib.pyplot as plt\n",
    "from sklearn.linear_model import LinearRegression\n",
    "import seaborn as sns\n",
    "from IPython.core.display import HTML"
   ]
  },
  {
   "cell_type": "code",
   "execution_count": 5,
   "id": "e29d9880",
   "metadata": {
    "scrolled": true
   },
   "outputs": [
    {
     "data": {
      "text/html": [
       "<div>\n",
       "<style scoped>\n",
       "    .dataframe tbody tr th:only-of-type {\n",
       "        vertical-align: middle;\n",
       "    }\n",
       "\n",
       "    .dataframe tbody tr th {\n",
       "        vertical-align: top;\n",
       "    }\n",
       "\n",
       "    .dataframe thead th {\n",
       "        text-align: right;\n",
       "    }\n",
       "</style>\n",
       "<table border=\"1\" class=\"dataframe\">\n",
       "  <thead>\n",
       "    <tr style=\"text-align: right;\">\n",
       "      <th></th>\n",
       "      <th>Entity</th>\n",
       "      <th>Year</th>\n",
       "      <th>Internet users (% population)</th>\n",
       "    </tr>\n",
       "  </thead>\n",
       "  <tbody>\n",
       "    <tr>\n",
       "      <th>0</th>\n",
       "      <td>World</td>\n",
       "      <td>1990</td>\n",
       "      <td>0.049235</td>\n",
       "    </tr>\n",
       "    <tr>\n",
       "      <th>1</th>\n",
       "      <td>World</td>\n",
       "      <td>1991</td>\n",
       "      <td>0.079181</td>\n",
       "    </tr>\n",
       "    <tr>\n",
       "      <th>2</th>\n",
       "      <td>World</td>\n",
       "      <td>1992</td>\n",
       "      <td>0.125364</td>\n",
       "    </tr>\n",
       "    <tr>\n",
       "      <th>3</th>\n",
       "      <td>World</td>\n",
       "      <td>1993</td>\n",
       "      <td>0.178900</td>\n",
       "    </tr>\n",
       "    <tr>\n",
       "      <th>4</th>\n",
       "      <td>World</td>\n",
       "      <td>1994</td>\n",
       "      <td>0.359900</td>\n",
       "    </tr>\n",
       "    <tr>\n",
       "      <th>5</th>\n",
       "      <td>World</td>\n",
       "      <td>1995</td>\n",
       "      <td>0.681457</td>\n",
       "    </tr>\n",
       "    <tr>\n",
       "      <th>6</th>\n",
       "      <td>World</td>\n",
       "      <td>1996</td>\n",
       "      <td>1.323470</td>\n",
       "    </tr>\n",
       "    <tr>\n",
       "      <th>7</th>\n",
       "      <td>World</td>\n",
       "      <td>1997</td>\n",
       "      <td>2.039509</td>\n",
       "    </tr>\n",
       "    <tr>\n",
       "      <th>8</th>\n",
       "      <td>World</td>\n",
       "      <td>1998</td>\n",
       "      <td>3.136406</td>\n",
       "    </tr>\n",
       "    <tr>\n",
       "      <th>9</th>\n",
       "      <td>World</td>\n",
       "      <td>1999</td>\n",
       "      <td>4.629490</td>\n",
       "    </tr>\n",
       "  </tbody>\n",
       "</table>\n",
       "</div>"
      ],
      "text/plain": [
       "  Entity  Year  Internet users (% population)\n",
       "0  World  1990                       0.049235\n",
       "1  World  1991                       0.079181\n",
       "2  World  1992                       0.125364\n",
       "3  World  1993                       0.178900\n",
       "4  World  1994                       0.359900\n",
       "5  World  1995                       0.681457\n",
       "6  World  1996                       1.323470\n",
       "7  World  1997                       2.039509\n",
       "8  World  1998                       3.136406\n",
       "9  World  1999                       4.629490"
      ]
     },
     "execution_count": 5,
     "metadata": {},
     "output_type": "execute_result"
    }
   ],
   "source": [
    "# read the CSV file into a dataframe\n",
    "df = pd.read_csv('Internet.csv')\n",
    "\n",
    "df.head(10)"
   ]
  },
  {
   "cell_type": "code",
   "execution_count": 15,
   "id": "343a8b49",
   "metadata": {},
   "outputs": [
    {
     "data": {
      "text/html": [
       "<div>\n",
       "<style scoped>\n",
       "    .dataframe tbody tr th:only-of-type {\n",
       "        vertical-align: middle;\n",
       "    }\n",
       "\n",
       "    .dataframe tbody tr th {\n",
       "        vertical-align: top;\n",
       "    }\n",
       "\n",
       "    .dataframe thead th {\n",
       "        text-align: right;\n",
       "    }\n",
       "</style>\n",
       "<table border=\"1\" class=\"dataframe\">\n",
       "  <thead>\n",
       "    <tr style=\"text-align: right;\">\n",
       "      <th></th>\n",
       "      <th>Entity</th>\n",
       "      <th>Year</th>\n",
       "      <th>Internet users (% population)</th>\n",
       "    </tr>\n",
       "  </thead>\n",
       "  <tbody>\n",
       "    <tr>\n",
       "      <th>21</th>\n",
       "      <td>World</td>\n",
       "      <td>2011</td>\n",
       "      <td>31.370604</td>\n",
       "    </tr>\n",
       "    <tr>\n",
       "      <th>22</th>\n",
       "      <td>World</td>\n",
       "      <td>2012</td>\n",
       "      <td>33.886585</td>\n",
       "    </tr>\n",
       "    <tr>\n",
       "      <th>23</th>\n",
       "      <td>World</td>\n",
       "      <td>2013</td>\n",
       "      <td>35.839931</td>\n",
       "    </tr>\n",
       "    <tr>\n",
       "      <th>24</th>\n",
       "      <td>World</td>\n",
       "      <td>2014</td>\n",
       "      <td>38.065929</td>\n",
       "    </tr>\n",
       "    <tr>\n",
       "      <th>25</th>\n",
       "      <td>World</td>\n",
       "      <td>2015</td>\n",
       "      <td>40.457054</td>\n",
       "    </tr>\n",
       "    <tr>\n",
       "      <th>26</th>\n",
       "      <td>World</td>\n",
       "      <td>2016</td>\n",
       "      <td>43.338352</td>\n",
       "    </tr>\n",
       "    <tr>\n",
       "      <th>27</th>\n",
       "      <td>World</td>\n",
       "      <td>2017</td>\n",
       "      <td>45.839836</td>\n",
       "    </tr>\n",
       "    <tr>\n",
       "      <th>28</th>\n",
       "      <td>World</td>\n",
       "      <td>2018</td>\n",
       "      <td>49.396488</td>\n",
       "    </tr>\n",
       "    <tr>\n",
       "      <th>29</th>\n",
       "      <td>World</td>\n",
       "      <td>2019</td>\n",
       "      <td>54.012985</td>\n",
       "    </tr>\n",
       "    <tr>\n",
       "      <th>30</th>\n",
       "      <td>World</td>\n",
       "      <td>2020</td>\n",
       "      <td>59.940247</td>\n",
       "    </tr>\n",
       "  </tbody>\n",
       "</table>\n",
       "</div>"
      ],
      "text/plain": [
       "   Entity  Year  Internet users (% population)\n",
       "21  World  2011                      31.370604\n",
       "22  World  2012                      33.886585\n",
       "23  World  2013                      35.839931\n",
       "24  World  2014                      38.065929\n",
       "25  World  2015                      40.457054\n",
       "26  World  2016                      43.338352\n",
       "27  World  2017                      45.839836\n",
       "28  World  2018                      49.396488\n",
       "29  World  2019                      54.012985\n",
       "30  World  2020                      59.940247"
      ]
     },
     "execution_count": 15,
     "metadata": {},
     "output_type": "execute_result"
    }
   ],
   "source": [
    "df.tail(10)"
   ]
  },
  {
   "cell_type": "markdown",
   "id": "116f84e0",
   "metadata": {},
   "source": [
    "# INTERNET GROWTH DESCRIPTIVE STATISTICS"
   ]
  },
  {
   "cell_type": "markdown",
   "id": "b16adc79",
   "metadata": {},
   "source": [
    "# Central Tendency:"
   ]
  },
  {
   "cell_type": "markdown",
   "id": "6df53b9d",
   "metadata": {},
   "source": [
    "**Mean**"
   ]
  },
  {
   "cell_type": "code",
   "execution_count": 6,
   "id": "01965db2",
   "metadata": {},
   "outputs": [
    {
     "name": "stdout",
     "output_type": "stream",
     "text": [
      "Mean = 20.24647313803226\n"
     ]
    }
   ],
   "source": [
    "Mean = df['Internet users (% population)'].mean()\n",
    "print(\"Mean =\",Mean)"
   ]
  },
  {
   "cell_type": "markdown",
   "id": "f02fcb86",
   "metadata": {},
   "source": [
    "**Median**"
   ]
  },
  {
   "cell_type": "code",
   "execution_count": 19,
   "id": "0f6dab64",
   "metadata": {},
   "outputs": [
    {
     "name": "stdout",
     "output_type": "stream",
     "text": [
      "Median = 15.69612122\n"
     ]
    }
   ],
   "source": [
    "Median = df['Internet users (% population)'].median()\n",
    "print(\"Median =\",Median)"
   ]
  },
  {
   "cell_type": "markdown",
   "id": "1123edff",
   "metadata": {},
   "source": [
    "**Mode**"
   ]
  },
  {
   "cell_type": "code",
   "execution_count": 31,
   "id": "ddca872c",
   "metadata": {},
   "outputs": [
    {
     "name": "stdout",
     "output_type": "stream",
     "text": [
      "N/A\n"
     ]
    }
   ],
   "source": [
    "Mode = df['Internet users (% population)'].mode()\n",
    "print(\"N/A\")"
   ]
  },
  {
   "cell_type": "markdown",
   "id": "4d74c9ad",
   "metadata": {},
   "source": [
    "# Dispersion:"
   ]
  },
  {
   "cell_type": "markdown",
   "id": "aed909b8",
   "metadata": {},
   "source": [
    "**Standard Deviation**"
   ]
  },
  {
   "cell_type": "code",
   "execution_count": 18,
   "id": "5441e073",
   "metadata": {},
   "outputs": [
    {
     "name": "stdout",
     "output_type": "stream",
     "text": [
      "Standard Deviation = 18.555193827413916\n"
     ]
    }
   ],
   "source": [
    "SD = df['Internet users (% population)'].std()\n",
    "print(\"Standard Deviation =\",SD)"
   ]
  },
  {
   "cell_type": "markdown",
   "id": "d39fa8b1",
   "metadata": {},
   "source": [
    "**Sample Variance**"
   ]
  },
  {
   "cell_type": "code",
   "execution_count": 17,
   "id": "b9f1d34d",
   "metadata": {},
   "outputs": [
    {
     "name": "stdout",
     "output_type": "stream",
     "text": [
      "Sample Variance = 344.2952179728995\n"
     ]
    }
   ],
   "source": [
    "SV = df['Internet users (% population)'].var()\n",
    "print(\"Sample Variance =\",SV)"
   ]
  },
  {
   "cell_type": "markdown",
   "id": "ad4db0eb",
   "metadata": {},
   "source": [
    "**Range**"
   ]
  },
  {
   "cell_type": "code",
   "execution_count": 16,
   "id": "48778d62",
   "metadata": {},
   "outputs": [
    {
     "name": "stdout",
     "output_type": "stream",
     "text": [
      "Range = 59.891011229\n"
     ]
    }
   ],
   "source": [
    "range = df['Internet users (% population)'].max() - df['Internet users (% population)'].min()\n",
    "print(\"Range =\",range)"
   ]
  },
  {
   "cell_type": "markdown",
   "id": "3bc1a641",
   "metadata": {},
   "source": [
    "**Count**"
   ]
  },
  {
   "cell_type": "code",
   "execution_count": 15,
   "id": "0be975b9",
   "metadata": {},
   "outputs": [
    {
     "name": "stdout",
     "output_type": "stream",
     "text": [
      "Count = World    31\n",
      "Name: Entity, dtype: int64\n"
     ]
    }
   ],
   "source": [
    "count = df['Entity'].value_counts()\n",
    "print(\"Count =\",count)"
   ]
  },
  {
   "cell_type": "markdown",
   "id": "73c1005b",
   "metadata": {},
   "source": [
    "**Standard Error**"
   ]
  },
  {
   "cell_type": "code",
   "execution_count": 14,
   "id": "83a3fd79",
   "metadata": {},
   "outputs": [
    {
     "name": "stdout",
     "output_type": "stream",
     "text": [
      "Standard Error = 3.332611191538026\n"
     ]
    }
   ],
   "source": [
    "SE = df['Internet users (% population)'].sem()\n",
    "print(\"Standard Error =\",SE)"
   ]
  },
  {
   "cell_type": "markdown",
   "id": "9997b5e3",
   "metadata": {},
   "source": [
    "**Kurtosis**"
   ]
  },
  {
   "cell_type": "code",
   "execution_count": 13,
   "id": "8e8c2d46",
   "metadata": {},
   "outputs": [
    {
     "name": "stdout",
     "output_type": "stream",
     "text": [
      "Kurtosis = -0.9149254023380036\n"
     ]
    }
   ],
   "source": [
    "kt = df['Internet users (% population)'].kurt()\n",
    "print(\"Kurtosis =\",kt)"
   ]
  },
  {
   "cell_type": "markdown",
   "id": "3c0ba6e8",
   "metadata": {},
   "source": [
    "**Minimum**"
   ]
  },
  {
   "cell_type": "code",
   "execution_count": 12,
   "id": "135b556c",
   "metadata": {},
   "outputs": [
    {
     "name": "stdout",
     "output_type": "stream",
     "text": [
      "Minimum = 0.049235351\n"
     ]
    }
   ],
   "source": [
    "min = df['Internet users (% population)'].min()\n",
    "print(\"Minimum =\",min)"
   ]
  },
  {
   "cell_type": "markdown",
   "id": "9085e493",
   "metadata": {},
   "source": [
    "**Maxmum**"
   ]
  },
  {
   "cell_type": "code",
   "execution_count": 11,
   "id": "effc967a",
   "metadata": {},
   "outputs": [
    {
     "name": "stdout",
     "output_type": "stream",
     "text": [
      "Maxmum = 59.94024658\n"
     ]
    }
   ],
   "source": [
    "max = df['Internet users (% population)'].max()\n",
    "print(\"Maxmum =\",max)"
   ]
  },
  {
   "cell_type": "markdown",
   "id": "0e0f5afd",
   "metadata": {},
   "source": [
    "**Sum**"
   ]
  },
  {
   "cell_type": "code",
   "execution_count": 10,
   "id": "028bbd8c",
   "metadata": {},
   "outputs": [
    {
     "name": "stdout",
     "output_type": "stream",
     "text": [
      "Sum = 627.6406672790001\n"
     ]
    }
   ],
   "source": [
    "sum=df['Internet users (% population)'].sum()\n",
    "print(\"Sum =\",sum)"
   ]
  },
  {
   "cell_type": "markdown",
   "id": "78db21fc",
   "metadata": {},
   "source": [
    "**First Quartile**"
   ]
  },
  {
   "cell_type": "code",
   "execution_count": 9,
   "id": "126f990f",
   "metadata": {},
   "outputs": [
    {
     "name": "stdout",
     "output_type": "stream",
     "text": [
      "First Quartile = 2.587957263\n"
     ]
    }
   ],
   "source": [
    "fq = df['Internet users (% population)'].quantile(0.25)\n",
    "print(\"First Quartile =\",fq)"
   ]
  },
  {
   "cell_type": "markdown",
   "id": "7066c614",
   "metadata": {},
   "source": [
    "**Second Quartile**"
   ]
  },
  {
   "cell_type": "code",
   "execution_count": 8,
   "id": "2b108c4b",
   "metadata": {},
   "outputs": [
    {
     "name": "stdout",
     "output_type": "stream",
     "text": [
      "Second Quartile = 15.69612122\n"
     ]
    }
   ],
   "source": [
    "sq = df['Internet users (% population)'].quantile(0.50)\n",
    "print(\"Second Quartile =\",sq)"
   ]
  },
  {
   "cell_type": "markdown",
   "id": "8be77ea9",
   "metadata": {},
   "source": [
    "**Third Quartile**"
   ]
  },
  {
   "cell_type": "code",
   "execution_count": 7,
   "id": "96e56739",
   "metadata": {},
   "outputs": [
    {
     "name": "stdout",
     "output_type": "stream",
     "text": [
      "Third Quartile = 34.863258365\n"
     ]
    }
   ],
   "source": [
    "tq = df['Internet users (% population)'].quantile(0.75)\n",
    "print(\"Third Quartile =\",tq)"
   ]
  },
  {
   "cell_type": "markdown",
   "id": "8b9bd679",
   "metadata": {},
   "source": [
    "**Interquartile Range**"
   ]
  },
  {
   "cell_type": "code",
   "execution_count": 5,
   "id": "0dd3c9a3",
   "metadata": {},
   "outputs": [
    {
     "name": "stdout",
     "output_type": "stream",
     "text": [
      "Interquartile Range = 32.275301102\n"
     ]
    }
   ],
   "source": [
    "q1 = df['Internet users (% population)'].quantile(0.25)\n",
    "q3 = df['Internet users (% population)'].quantile(0.75)\n",
    "iqr = q3 - q1\n",
    "print(\"Interquartile Range =\",iqr)"
   ]
  },
  {
   "cell_type": "markdown",
   "id": "7a38b017",
   "metadata": {},
   "source": [
    "**Mean Absolute Deviation**"
   ]
  },
  {
   "cell_type": "code",
   "execution_count": 11,
   "id": "4477010f",
   "metadata": {},
   "outputs": [
    {
     "name": "stdout",
     "output_type": "stream",
     "text": [
      "Mean Absolute Deviation (MAD): 15.922200760486993\n"
     ]
    }
   ],
   "source": [
    "internet_growth = df['Internet users (% population)']\n",
    "# Calculate the absolute differences\n",
    "absolute_differences = np.abs(internet_growth  - Mean)\n",
    "\n",
    "mad = np.mean(absolute_differences)\n",
    "print(\"Mean Absolute Deviation (MAD):\", mad)"
   ]
  },
  {
   "cell_type": "markdown",
   "id": "eda1b03e",
   "metadata": {},
   "source": [
    "**Coefficient of variation**"
   ]
  },
  {
   "cell_type": "code",
   "execution_count": 6,
   "id": "04220f2d",
   "metadata": {},
   "outputs": [
    {
     "name": "stdout",
     "output_type": "stream",
     "text": [
      "Coefficient of Variation = 91.6465485169299\n"
     ]
    }
   ],
   "source": [
    "cv = (df['Internet users (% population)'].std() / df['Internet users (% population)'].mean()) * 100\n",
    "print(\"Coefficient of Variation =\", cv)"
   ]
  },
  {
   "cell_type": "markdown",
   "id": "758c8655",
   "metadata": {},
   "source": [
    "**Correlation**"
   ]
  },
  {
   "cell_type": "code",
   "execution_count": 61,
   "id": "b9d168c0",
   "metadata": {},
   "outputs": [
    {
     "data": {
      "text/html": [
       "<div>\n",
       "<style scoped>\n",
       "    .dataframe tbody tr th:only-of-type {\n",
       "        vertical-align: middle;\n",
       "    }\n",
       "\n",
       "    .dataframe tbody tr th {\n",
       "        vertical-align: top;\n",
       "    }\n",
       "\n",
       "    .dataframe thead th {\n",
       "        text-align: right;\n",
       "    }\n",
       "</style>\n",
       "<table border=\"1\" class=\"dataframe\">\n",
       "  <thead>\n",
       "    <tr style=\"text-align: right;\">\n",
       "      <th></th>\n",
       "      <th>Year</th>\n",
       "      <th>Internet users (% population)</th>\n",
       "    </tr>\n",
       "  </thead>\n",
       "  <tbody>\n",
       "    <tr>\n",
       "      <th>Year</th>\n",
       "      <td>1.000000</td>\n",
       "      <td>0.973706</td>\n",
       "    </tr>\n",
       "    <tr>\n",
       "      <th>Internet users (% population)</th>\n",
       "      <td>0.973706</td>\n",
       "      <td>1.000000</td>\n",
       "    </tr>\n",
       "  </tbody>\n",
       "</table>\n",
       "</div>"
      ],
      "text/plain": [
       "                                   Year  Internet users (% population)\n",
       "Year                           1.000000                       0.973706\n",
       "Internet users (% population)  0.973706                       1.000000"
      ]
     },
     "execution_count": 61,
     "metadata": {},
     "output_type": "execute_result"
    }
   ],
   "source": [
    "df.corr()"
   ]
  },
  {
   "cell_type": "markdown",
   "id": "3e628f14",
   "metadata": {},
   "source": [
    "**Correlation Heatmap**"
   ]
  },
  {
   "cell_type": "code",
   "execution_count": 64,
   "id": "7ee8e886",
   "metadata": {},
   "outputs": [
    {
     "data": {
      "image/png": "[encoded data removed]",
      "text/plain": [
       "<Figure size 1800x800 with 2 Axes>"
      ]
     },
     "metadata": {},
     "output_type": "display_data"
    }
   ],
   "source": [
    "corr_matrix = df.corr()\n",
    "# create heatmap\n",
    "sns.heatmap(corr_matrix, cmap='coolwarm', annot=True)\n",
    "fig = plt.gcf()\n",
    "fig.set_size_inches(18, 8)\n",
    "plt.show()"
   ]
  },
  {
   "cell_type": "markdown",
   "id": "fccbbb6e",
   "metadata": {},
   "source": [
    "**Skewness**"
   ]
  },
  {
   "cell_type": "code",
   "execution_count": 21,
   "id": "856653b2",
   "metadata": {},
   "outputs": [
    {
     "name": "stdout",
     "output_type": "stream",
     "text": [
      "Skewness = 0.5668451632046302\n"
     ]
    }
   ],
   "source": [
    "skewness=df['Internet users (% population)'].skew()\n",
    "print(\"Skewness =\",skewness)"
   ]
  },
  {
   "cell_type": "markdown",
   "id": "00391662",
   "metadata": {},
   "source": [
    "**Box Plot: To represent the distribution of data.**"
   ]
  },
  {
   "cell_type": "code",
   "execution_count": 48,
   "id": "0dac7cb5",
   "metadata": {},
   "outputs": [
    {
     "data": {
      "image/png": "[encoded data removed]",
      "text/plain": [
       "<Figure size 1800x500 with 1 Axes>"
      ]
     },
     "metadata": {},
     "output_type": "display_data"
    }
   ],
   "source": [
    "sns.boxplot(x=df['Internet users (% population)'])\n",
    "# Set the size of the plot\n",
    "fig = plt.gcf()\n",
    "fig.set_size_inches(18, 5)"
   ]
  },
  {
   "cell_type": "markdown",
   "id": "a7f633b7",
   "metadata": {},
   "source": [
    "**Boxplot to visualize outliers**"
   ]
  },
  {
   "cell_type": "code",
   "execution_count": 51,
   "id": "2cff0ddd",
   "metadata": {},
   "outputs": [
    {
     "data": {
      "image/png": "[encoded data removed]",
      "text/plain": [
       "<Figure size 1800x800 with 1 Axes>"
      ]
     },
     "metadata": {},
     "output_type": "display_data"
    }
   ],
   "source": [
    "df.boxplot(column='Internet users (% population)')\n",
    "fig = plt.gcf()\n",
    "fig.set_size_inches(18, 8)"
   ]
  },
  {
   "cell_type": "markdown",
   "id": "3aa6f953",
   "metadata": {},
   "source": [
    "**Bar Plot: To represent the frequency of data.**"
   ]
  },
  {
   "cell_type": "code",
   "execution_count": 42,
   "id": "ac6c2b26",
   "metadata": {},
   "outputs": [
    {
     "data": {
      "image/png": "[encoded data removed]",
      "text/plain": [
       "<Figure size 1500x700 with 1 Axes>"
      ]
     },
     "metadata": {},
     "output_type": "display_data"
    }
   ],
   "source": [
    "df.plot(x='Year', y='Internet users (% population)', kind='bar')\n",
    "plt.title('Bar Plot')\n",
    "# Set the size of the plot\n",
    "fig = plt.gcf()\n",
    "fig.set_size_inches(15, 7)"
   ]
  },
  {
   "cell_type": "markdown",
   "id": "21874089",
   "metadata": {},
   "source": [
    "**Line Plot: To represent the Internet Growth from 1990 to 2020**"
   ]
  },
  {
   "cell_type": "code",
   "execution_count": 43,
   "id": "b3d73010",
   "metadata": {},
   "outputs": [
    {
     "data": {
      "image/png": "[encoded data removed]",
      "text/plain": [
       "<Figure size 1500x700 with 1 Axes>"
      ]
     },
     "metadata": {},
     "output_type": "display_data"
    }
   ],
   "source": [
    "df.plot(x='Year', y='Internet users (% population)', kind='line')\n",
    "plt.title('Line Plot')\n",
    "plt.xlabel('Years')\n",
    "plt.ylabel('Number of Internet Users')\n",
    "\n",
    "# Set the size of the plot\n",
    "fig = plt.gcf()\n",
    "fig.set_size_inches(15, 7)"
   ]
  },
  {
   "cell_type": "markdown",
   "id": "94b0c566",
   "metadata": {},
   "source": [
    "**Scatter Plot**"
   ]
  },
  {
   "cell_type": "code",
   "execution_count": 44,
   "id": "8992d3af",
   "metadata": {},
   "outputs": [
    {
     "data": {
      "image/png": "[encoded data removed]",
      "text/plain": [
       "<Figure size 1500x700 with 1 Axes>"
      ]
     },
     "metadata": {},
     "output_type": "display_data"
    }
   ],
   "source": [
    "df.plot(x='Year', y='Internet users (% population)', kind='scatter')\n",
    "plt.title('Scatter Plot')\n",
    "\n",
    "# Set the size of the plot\n",
    "fig = plt.gcf()\n",
    "fig.set_size_inches(15, 7)"
   ]
  },
  {
   "cell_type": "markdown",
   "id": "e0937907",
   "metadata": {},
   "source": [
    "**Histogram: Distribution of Internet Users**"
   ]
  },
  {
   "cell_type": "code",
   "execution_count": 68,
   "id": "bdc50f89",
   "metadata": {},
   "outputs": [
    {
     "data": {
      "image/png": "[encoded data removed]",
      "text/plain": [
       "<Figure size 1500x700 with 1 Axes>"
      ]
     },
     "metadata": {},
     "output_type": "display_data"
    }
   ],
   "source": [
    "df['Internet users (% population)'].hist()\n",
    "plt.title('Histogram')\n",
    "fig = plt.gcf()\n",
    "fig.set_size_inches(15, 7)"
   ]
  },
  {
   "cell_type": "markdown",
   "id": "1a2b4576",
   "metadata": {},
   "source": [
    "**Regression analysis**"
   ]
  },
  {
   "cell_type": "code",
   "execution_count": 67,
   "id": "7a71e993",
   "metadata": {},
   "outputs": [
    {
     "name": "stdout",
     "output_type": "stream",
     "text": [
      "                                  OLS Regression Results                                 \n",
      "=========================================================================================\n",
      "Dep. Variable:     Internet users (% population)   R-squared:                       0.948\n",
      "Model:                                       OLS   Adj. R-squared:                  0.946\n",
      "Method:                            Least Squares   F-statistic:                     529.8\n",
      "Date:                           Sat, 08 Apr 2023   Prob (F-statistic):           3.53e-20\n",
      "Time:                                   10:20:06   Log-Likelihood:                -88.165\n",
      "No. Observations:                             31   AIC:                             180.3\n",
      "Df Residuals:                                 29   BIC:                             183.2\n",
      "Df Model:                                      1                                         \n",
      "Covariance Type:                       nonrobust                                         \n",
      "==============================================================================\n",
      "                 coef    std err          t      P>|t|      [0.025      0.975]\n",
      "------------------------------------------------------------------------------\n",
      "const      -3963.9659    173.097    -22.900      0.000   -4317.989   -3609.942\n",
      "Year           1.9871      0.086     23.017      0.000       1.811       2.164\n",
      "==============================================================================\n",
      "Omnibus:                        5.239   Durbin-Watson:                   0.099\n",
      "Prob(Omnibus):                  0.073   Jarque-Bera (JB):                4.536\n",
      "Skew:                           0.936   Prob(JB):                        0.104\n",
      "Kurtosis:                       2.919   Cond. No.                     4.49e+05\n",
      "==============================================================================\n",
      "\n",
      "Notes:\n",
      "[1] Standard Errors assume that the covariance matrix of the errors is correctly specified.\n",
      "[2] The condition number is large, 4.49e+05. This might indicate that there are\n",
      "strong multicollinearity or other numerical problems.\n"
     ]
    }
   ],
   "source": [
    "import statsmodels.api as sm\n",
    "\n",
    "# Create the X and Y variables for the linear regression\n",
    "X = df['Year']\n",
    "Y = df['Internet users (% population)']\n",
    "\n",
    "# Add a constant term to the X variable for the intercept\n",
    "X = sm.add_constant(X)\n",
    "\n",
    "# Create the linear regression model and fit it to the data\n",
    "model = sm.OLS(Y, X).fit()\n",
    "\n",
    "# Print the model summary\n",
    "print(model.summary())\n"
   ]
  },
  {
   "cell_type": "markdown",
   "id": "78edded6",
   "metadata": {},
   "source": [
    "**Hypothesis testing**"
   ]
  },
  {
   "cell_type": "code",
   "execution_count": 72,
   "id": "78b06646",
   "metadata": {},
   "outputs": [
    {
     "name": "stdout",
     "output_type": "stream",
     "text": [
      "T-statistic: -5.55130223836226\n",
      "P-value: 5.4887620705215585e-06\n"
     ]
    }
   ],
   "source": [
    "import scipy.stats as stats\n",
    "group1 = df.loc[df['Year'] < 2000, 'Internet users (% population)']\n",
    "group2 = df.loc[df['Year'] >= 2000, 'Internet users (% population)']\n",
    "\n",
    "# Perform a t-test for the difference between the two groups\n",
    "t_stat, p_val = stats.ttest_ind(group1, group2)\n",
    "\n",
    "# Print the results\n",
    "print('T-statistic:', t_stat)\n",
    "print('P-value:', p_val)"
   ]
  },
  {
   "cell_type": "markdown",
   "id": "714d9697",
   "metadata": {},
   "source": [
    "# Conclusions"
   ]
  },
  {
   "cell_type": "markdown",
   "id": "4f8e289b",
   "metadata": {},
   "source": [
    "<ul>\n",
    "    <li>The number of internet users has been increasing steadily since the early 1990s, with a particularly rapid increase in the 2000s.</li>\n",
    "    <li>The growth rate of internet users appears to have slowed somewhat in recent years, but there is still a steady increase in the number of users.</li>\n",
    "    <li>There is a strong positive correlation between the number of internet users and time, as evidenced by the line plot</li>\n",
    "    <li>The histogram of the data suggests that the distribution of internet users across different years is approximately normal.</li>\n",
    "    <li>The box plot shows that there are a few years with outliers that have significantly more or fewer internet users than other years.</li>\n",
    "    <li>The regression analysis indicates that there is a statistically significant positive relationship between the number of internet users and time.</li>\n",
    "    <li>The hypothesis test indicates that there is strong evidence to suggest that the mean number of internet users before and after the year 2000 is different.</li>\n",
    "</ul>\n",
    "<p>Overall, the analysis suggests that the number of internet users has been steadily increasing since the early 1990s, with a particularly rapid increase in the 2000s. There are a few years with outlier values, but the overall trend is positive and statistically significant.</p>"
   ]
  },
  {
   "cell_type": "markdown",
   "id": "bc0a0c4c",
   "metadata": {},
   "source": [
    "# Reflections"
   ]
  },
  {
   "cell_type": "markdown",
   "id": "eb8ef5d4",
   "metadata": {},
   "source": [
    "<p>As I have been working in these two applications I came to realize that Firstly, Python in Jupyter Notebook offers more flexibility and customization options than Excel. In Jupyter Notebook, you can use a wide range of libraries and packages to perform statistical analysis and visualization, and customize the output to suit your specific needs. In contrast, Excel has pre-built tools and functions that can perform basic statistical analysis, but it can be limited in its ability to handle large datasets and complex analyses and again Excel is an excellent tool for beginners who are learning the basics of data analysis, as it requires little coding knowledge.</p>\n",
    "\n",
    "<p>Another difference is the learning curve. Excel is widely used in the industry and has a relatively user-friendly interface, which makes it accessible to a wider range of users. Python, on the other hand, requires some knowledge of programming concepts and syntax, which can be a barrier to entry for some users. However, once the initial learning curve is overcome, Python in Jupyter Notebook can offer more powerful and flexible options for statistical analysis.</p>\n",
    "\n",
    "<p>In terms of when to use either tool, it depends on the specific requirements of the project. If the dataset is relatively small and the analysis is straightforward, Excel may be a suitable option. However, if the dataset is large or complex, or if there is a need for customization or reproducibility, Python in Jupyter Notebook may be a better choice.</p>\n",
    "\n",
    "<p>If I were to do this assignment over, I would focus more on exploring different statistical analysis techniques and visualization options in Python in Jupyter Notebook, as this tool offers more flexibility and customization options compared to Excel. Additionally, I would spend more time exploring hypothesis testing and machine learning techniques to gain a deeper understanding of these topics.</p>\n",
    "\n",
    "<p>One gap in my programming and statistics knowledge is in machine learning and deep learning techniques, which are becoming increasingly important in data analysis and modeling. I would like to learn more about these topics to expand my skillset and stay up-to-date with industry trends. Additionally, I could benefit from more practice in data visualization techniques to better communicate insights from data analysis to stakeholders.</p>"
   ]
  },
  {
   "cell_type": "code",
   "execution_count": null,
   "id": "868ef76b",
   "metadata": {},
   "outputs": [],
   "source": []
  }
 ],
 "metadata": {
  "kernelspec": {
   "display_name": "Python 3 (ipykernel)",
   "language": "python",
   "name": "python3"
  },
  "language_info": {
   "codemirror_mode": {
    "name": "ipython",
    "version": 3
   },
   "file_extension": ".py",
   "mimetype": "text/x-python",
   "name": "python",
   "nbconvert_exporter": "python",
   "pygments_lexer": "ipython3",
   "version": "3.9.13"
  }
 },
 "nbformat": 4,
 "nbformat_minor": 5
}
